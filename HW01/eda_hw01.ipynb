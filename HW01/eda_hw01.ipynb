{
 "cells": [
  {
   "cell_type": "markdown",
   "metadata": {
    "collapsed": false,
    "jupyter": {
     "outputs_hidden": false
    }
   },
   "source": [
    "## 1.Python Libraries"
   ]
  },
  {
   "cell_type": "code",
   "execution_count": 1,
   "metadata": {},
   "outputs": [],
   "source": [
    "import pandas as pd\n",
    "import seaborn as sns\n",
    "import matplotlib.pyplot as plt\n",
    "import warnings\n",
    "warnings.filterwarnings(\"ignore\")"
   ]
  },
  {
   "cell_type": "markdown",
   "metadata": {
    "collapsed": false,
    "jupyter": {
     "outputs_hidden": false
    }
   },
   "source": [
    "## 2.Data loading"
   ]
  },
  {
   "cell_type": "code",
   "execution_count": 26,
   "metadata": {
    "collapsed": false,
    "jupyter": {
     "outputs_hidden": false
    }
   },
   "outputs": [
    {
     "name": "stdout",
     "output_type": "stream",
     "text": [
      "0 id\n",
      "1 AL\n",
      "2 AK\n",
      "3 AZ\n",
      "4 AR\n",
      "5 CA\n",
      "6 CO\n",
      "7 CT\n",
      "8 FL\n",
      "9 GA\n",
      "10 ID\n",
      "11 IL\n",
      "12 IN\n",
      "13 IA\n",
      "14 KS\n",
      "15 KY\n",
      "16 LA\n",
      "17 MD\n",
      "18 MA\n",
      "19 MI\n",
      "20 MN\n",
      "21 MS\n",
      "22 MO\n",
      "23 NE\n",
      "24 NV\n",
      "25 NJ\n",
      "26 NM\n",
      "27 NY\n",
      "28 NC\n",
      "29 OH\n",
      "30 OK\n",
      "31 OR\n",
      "32 PA\n",
      "33 RI\n",
      "34 SC\n",
      "35 TX\n",
      "36 UT\n",
      "37 VA\n",
      "38 WA\n",
      "39 WV\n",
      "40 WI\n",
      "41 cli\n",
      "42 ili\n",
      "43 hh_cmnty_cli\n",
      "44 nohh_cmnty_cli\n",
      "45 wearing_mask\n",
      "46 travel_outside_state\n",
      "47 work_outside_home\n",
      "48 shop\n",
      "49 restaurant\n",
      "50 spent_time\n",
      "51 large_event\n",
      "52 public_transit\n",
      "53 anxious\n",
      "54 depressed\n",
      "55 felt_isolated\n",
      "56 worried_become_ill\n",
      "57 worried_finances\n",
      "58 tested_positive\n",
      "59 cli.1\n",
      "60 ili.1\n",
      "61 hh_cmnty_cli.1\n",
      "62 nohh_cmnty_cli.1\n",
      "63 wearing_mask.1\n",
      "64 travel_outside_state.1\n",
      "65 work_outside_home.1\n",
      "66 shop.1\n",
      "67 restaurant.1\n",
      "68 spent_time.1\n",
      "69 large_event.1\n",
      "70 public_transit.1\n",
      "71 anxious.1\n",
      "72 depressed.1\n",
      "73 felt_isolated.1\n",
      "74 worried_become_ill.1\n",
      "75 worried_finances.1\n",
      "76 tested_positive.1\n",
      "77 cli.2\n",
      "78 ili.2\n",
      "79 hh_cmnty_cli.2\n",
      "80 nohh_cmnty_cli.2\n",
      "81 wearing_mask.2\n",
      "82 travel_outside_state.2\n",
      "83 work_outside_home.2\n",
      "84 shop.2\n",
      "85 restaurant.2\n",
      "86 spent_time.2\n",
      "87 large_event.2\n",
      "88 public_transit.2\n",
      "89 anxious.2\n",
      "90 depressed.2\n",
      "91 felt_isolated.2\n",
      "92 worried_become_ill.2\n",
      "93 worried_finances.2\n",
      "94 tested_positive.2\n"
     ]
    }
   ],
   "source": [
    "df=pd.read_csv(r\".\\data\\covid.train.csv\")\n",
    "for i, j in enumerate(df.columns):\n",
    "    print(i, j)"
   ]
  },
  {
   "cell_type": "code",
   "execution_count": 22,
   "metadata": {},
   "outputs": [],
   "source": [
    "no_loc = df.iloc[:, 41:59]"
   ]
  },
  {
   "cell_type": "markdown",
   "metadata": {
    "collapsed": false,
    "jupyter": {
     "outputs_hidden": false
    }
   },
   "source": [
    "## 3. EDA"
   ]
  },
  {
   "cell_type": "code",
   "execution_count": 23,
   "metadata": {
    "collapsed": false,
    "jupyter": {
     "outputs_hidden": false
    }
   },
   "outputs": [
    {
     "data": {
      "text/plain": [
       "(2700, 18)"
      ]
     },
     "execution_count": 23,
     "metadata": {},
     "output_type": "execute_result"
    }
   ],
   "source": [
    "no_loc.shape"
   ]
  },
  {
   "cell_type": "code",
   "execution_count": 24,
   "metadata": {
    "collapsed": false,
    "jupyter": {
     "outputs_hidden": false
    }
   },
   "outputs": [
    {
     "data": {
      "text/plain": [
       "Index(['cli', 'ili', 'hh_cmnty_cli', 'nohh_cmnty_cli', 'wearing_mask',\n",
       "       'travel_outside_state', 'work_outside_home', 'shop', 'restaurant',\n",
       "       'spent_time', 'large_event', 'public_transit', 'anxious', 'depressed',\n",
       "       'felt_isolated', 'worried_become_ill', 'worried_finances',\n",
       "       'tested_positive'],\n",
       "      dtype='object')"
      ]
     },
     "execution_count": 24,
     "metadata": {},
     "output_type": "execute_result"
    }
   ],
   "source": [
    "no_loc.columns"
   ]
  },
  {
   "cell_type": "code",
   "execution_count": null,
   "metadata": {
    "collapsed": false,
    "jupyter": {
     "outputs_hidden": false
    }
   },
   "outputs": [],
   "source": [
    "# df.columns=df.columns.str.lower().str.strip().str.replace(\" \",\"_\")\n",
    "# df.columns"
   ]
  },
  {
   "cell_type": "code",
   "execution_count": null,
   "metadata": {
    "collapsed": false,
    "jupyter": {
     "outputs_hidden": false
    }
   },
   "outputs": [],
   "source": [
    "df.info()"
   ]
  },
  {
   "cell_type": "markdown",
   "metadata": {
    "collapsed": false,
    "jupyter": {
     "outputs_hidden": false
    }
   },
   "source": [
    "### 3.1 Statistical summary"
   ]
  },
  {
   "cell_type": "code",
   "execution_count": null,
   "metadata": {
    "collapsed": false,
    "jupyter": {
     "outputs_hidden": false
    }
   },
   "outputs": [],
   "source": [
    "df.describe([0.1,0.25,0.35,0.5,0.65,0.75,0.9,0.95]).T"
   ]
  },
  {
   "cell_type": "markdown",
   "metadata": {
    "collapsed": false,
    "jupyter": {
     "outputs_hidden": false
    }
   },
   "source": [
    "### 3.2 Categorical statistical  summary"
   ]
  },
  {
   "cell_type": "code",
   "execution_count": null,
   "metadata": {
    "collapsed": false,
    "jupyter": {
     "outputs_hidden": false
    }
   },
   "outputs": [],
   "source": [
    "df.describe().T"
   ]
  },
  {
   "cell_type": "markdown",
   "metadata": {
    "collapsed": false,
    "jupyter": {
     "outputs_hidden": false
    }
   },
   "source": [
    "### 3.3 The unique value counts for each attribute"
   ]
  },
  {
   "cell_type": "code",
   "execution_count": null,
   "metadata": {
    "collapsed": false,
    "jupyter": {
     "outputs_hidden": false
    }
   },
   "outputs": [],
   "source": [
    "df.nunique()"
   ]
  },
  {
   "cell_type": "code",
   "execution_count": null,
   "metadata": {
    "collapsed": false,
    "jupyter": {
     "outputs_hidden": false
    }
   },
   "outputs": [],
   "source": [
    "def summary(data):\n",
    "    print(\"******shape******\")\n",
    "    print(data.shape)\n",
    "    print(\"******columns******\")\n",
    "    print(data.columns)\n",
    "    print(\"******information data******\")\n",
    "    print(data.info())\n",
    "    print(\"******missing values******\")\n",
    "    print(data.isna().sum())\n",
    "    print(\"******Quantiles*****\")\n",
    "    print(data.describe([0.15,0.25,0.35,0.5,0.65,0.75,0.9]).T)\n",
    "    print(\"*********nunique********\")\n",
    "    print(data.nunique())"
   ]
  },
  {
   "cell_type": "code",
   "execution_count": null,
   "metadata": {
    "collapsed": false,
    "jupyter": {
     "outputs_hidden": false
    }
   },
   "outputs": [],
   "source": [
    "summary(df)"
   ]
  },
  {
   "cell_type": "markdown",
   "metadata": {
    "collapsed": false,
    "jupyter": {
     "outputs_hidden": false
    }
   },
   "source": [
    "### 3.4 Each tag count"
   ]
  },
  {
   "cell_type": "code",
   "execution_count": null,
   "metadata": {
    "collapsed": false,
    "jupyter": {
     "outputs_hidden": false
    }
   },
   "outputs": [],
   "source": [
    "for i in df.select_dtypes(\"object\").columns.to_list():\n",
    "    print(df[i].value_counts())\n",
    "    print(\"*\"*36)"
   ]
  },
  {
   "cell_type": "code",
   "execution_count": null,
   "metadata": {
    "collapsed": false,
    "jupyter": {
     "outputs_hidden": false
    }
   },
   "outputs": [],
   "source": [
    "# 根据具体数据集更改\n",
    "df.sort_values(\"tumor_size\",ascending=False).head(20)\n",
    "df.sort_values(\"tumor_size\",ascending=True).head(20)"
   ]
  },
  {
   "cell_type": "code",
   "execution_count": null,
   "metadata": {
    "collapsed": false,
    "jupyter": {
     "outputs_hidden": false
    }
   },
   "outputs": [],
   "source": [
    "# 根据具体数据集更改\n",
    "df.groupby(\"marital_status\").describe().T"
   ]
  },
  {
   "cell_type": "code",
   "execution_count": null,
   "metadata": {
    "collapsed": false,
    "jupyter": {
     "outputs_hidden": false
    }
   },
   "outputs": [],
   "source": [
    "# 根据具体数据集更改\n",
    "df.groupby(\"status\").describe().T"
   ]
  },
  {
   "cell_type": "markdown",
   "metadata": {
    "collapsed": false,
    "jupyter": {
     "outputs_hidden": false
    }
   },
   "source": [
    "### 3.5 Create lists for categorical and numeric attributes"
   ]
  },
  {
   "cell_type": "code",
   "execution_count": null,
   "metadata": {
    "collapsed": false,
    "jupyter": {
     "outputs_hidden": false
    }
   },
   "outputs": [],
   "source": [
    "cat_list=[i for i in df.select_dtypes(\"object\")]\n",
    "num_list=[i for i in df.select_dtypes(include=[\"int64\",\"float64\"])]"
   ]
  },
  {
   "cell_type": "code",
   "execution_count": null,
   "metadata": {
    "collapsed": false,
    "jupyter": {
     "outputs_hidden": false
    }
   },
   "outputs": [],
   "source": [
    "num_list"
   ]
  },
  {
   "cell_type": "code",
   "execution_count": null,
   "metadata": {
    "collapsed": false,
    "jupyter": {
     "outputs_hidden": false
    }
   },
   "outputs": [],
   "source": [
    "cat_list"
   ]
  },
  {
   "cell_type": "markdown",
   "metadata": {
    "collapsed": false,
    "jupyter": {
     "outputs_hidden": false
    }
   },
   "source": [
    "## 3.6 Categorical Analysis"
   ]
  },
  {
   "cell_type": "code",
   "execution_count": null,
   "metadata": {
    "collapsed": false,
    "jupyter": {
     "outputs_hidden": false
    }
   },
   "outputs": [],
   "source": [
    "for i in cat_list:\n",
    "    plt.figure(figsize=(10,10))\n",
    "    sns.countplot(x=i,data=df.loc[:,cat_list])"
   ]
  },
  {
   "cell_type": "markdown",
   "metadata": {
    "collapsed": false,
    "jupyter": {
     "outputs_hidden": false
    }
   },
   "source": [
    "## 3.7 Numerical analysis"
   ]
  },
  {
   "cell_type": "code",
   "execution_count": null,
   "metadata": {
    "collapsed": false,
    "jupyter": {
     "outputs_hidden": false
    }
   },
   "outputs": [],
   "source": [
    "sns.pairplot(no_loc)"
   ]
  },
  {
   "cell_type": "code",
   "execution_count": 8,
   "metadata": {
    "collapsed": false,
    "jupyter": {
     "outputs_hidden": false
    }
   },
   "outputs": [
    {
     "data": {
      "image/png": "[encoded data removed]",
      "text/plain": [
       "<Figure size 432x288 with 54 Axes>"
      ]
     },
     "metadata": {},
     "output_type": "display_data"
    }
   ],
   "source": [
    "k=1\n",
    "\n",
    "for i in no_loc.columns:\n",
    "    plt.subplot(6,9,k)\n",
    "    sns.distplot(no_loc[i])\n",
    "    k+=1\n",
    "\n",
    "plt.savefig(\"my_plot.png\")"
   ]
  },
  {
   "cell_type": "code",
   "execution_count": null,
   "metadata": {
    "collapsed": false,
    "jupyter": {
     "outputs_hidden": false
    }
   },
   "outputs": [],
   "source": [
    "# histogram\n",
    "df.hist(figsize=(9,9))"
   ]
  },
  {
   "cell_type": "code",
   "execution_count": null,
   "metadata": {
    "collapsed": false,
    "jupyter": {
     "outputs_hidden": false
    }
   },
   "outputs": [],
   "source": [
    "# 根据具体数据集更改\n",
    "plt.figure(figsize=(15,15))\n",
    "plt.subplot(3,3,1)\n",
    "sns.scatterplot(x ='age',y ='reginol_node_positive',data = df)\n",
    "plt.subplot(3,3,2)\n",
    "sns.scatterplot(x=\"regional_node_examined\",y=\"reginol_node_positive\",hue=\"status\",data=df)\n",
    "plt.subplot(3,3,3)\n",
    "sns.boxplot(x=\"age\",y=\"status\",data=df)\n",
    "plt.subplot(3,3,4)\n",
    "sns.boxplot(x=\"6th_stage\",y=\"tumor_size\",data=df)\n",
    "plt.subplot(3,3,5)\n",
    "sns.barplot(x=\"grade\",y=\"survival_months\",hue=\"status\",data=df)\n",
    "plt.subplot(3,3,6)\n",
    "sns.boxplot(data=df, x=\"status\", y=\"tumor_size\")\n",
    "plt.subplot(3,3,7)\n",
    "sns.violinplot(x=\"n_stage\",y=\"tumor_size\",data=df,hue=\"status\")\n",
    "plt.subplot(3,3,8)\n",
    "sns.boxplot(x=\"t_stage\",y=\"tumor_size\",data=df,hue=\"status\")\n",
    "plt.subplot(3,3,9)\n",
    "sns.boxplot(x=\"6th_stage\",y=\"survival_months\",hue=\"status\",data=df)\n",
    "plt.show()"
   ]
  },
  {
   "cell_type": "markdown",
   "metadata": {
    "collapsed": false,
    "jupyter": {
     "outputs_hidden": false
    }
   },
   "source": [
    "## 4.Data Preprocessing"
   ]
  },
  {
   "cell_type": "markdown",
   "metadata": {
    "collapsed": false,
    "jupyter": {
     "outputs_hidden": false
    }
   },
   "source": [
    "### 4.1 Missing values query"
   ]
  },
  {
   "cell_type": "code",
   "execution_count": null,
   "metadata": {
    "collapsed": false,
    "jupyter": {
     "outputs_hidden": false
    }
   },
   "outputs": [],
   "source": [
    "df.isna().sum()"
   ]
  },
  {
   "cell_type": "markdown",
   "metadata": {
    "collapsed": false,
    "jupyter": {
     "outputs_hidden": false
    }
   },
   "source": [
    "### 4.2 Outlier Analysis"
   ]
  },
  {
   "cell_type": "code",
   "execution_count": null,
   "metadata": {
    "collapsed": false,
    "jupyter": {
     "outputs_hidden": false
    }
   },
   "outputs": [],
   "source": [
    "k=1\n",
    "plt.figure(figsize=(10,10))\n",
    "plt.suptitle(\"Distribution of Outliers\")\n",
    "\n",
    "for i in df.loc[:,num_list]:\n",
    "    plt.subplot(2,3,k)\n",
    "    sns.boxplot(x = i, data = df.loc[:,num_list])\n",
    "    plt.title(i)\n",
    "    k+=1"
   ]
  },
  {
   "cell_type": "code",
   "execution_count": null,
   "metadata": {
    "collapsed": false,
    "jupyter": {
     "outputs_hidden": false
    }
   },
   "outputs": [],
   "source": [
    "df.describe([0.1,0.25,0.35,0.5,0.65,0.75,0.9,0.95]).T"
   ]
  },
  {
   "cell_type": "markdown",
   "metadata": {
    "collapsed": false,
    "jupyter": {
     "outputs_hidden": false
    }
   },
   "source": [
    "### 4.3 Make a copy of our dataset and remove the outliers"
   ]
  },
  {
   "cell_type": "code",
   "execution_count": null,
   "metadata": {
    "collapsed": false,
    "jupyter": {
     "outputs_hidden": false
    }
   },
   "outputs": [],
   "source": [
    "for i in df.loc[:,num_list]:\n",
    "    Q1 = df[i].quantile(0.15)\n",
    "    Q3 = df[i].quantile(0.85)\n",
    "    IQR = Q3-Q1\n",
    "    up = Q3 + 1.5*IQR\n",
    "    low = Q1 - 1.5*IQR\n",
    "\n",
    "    if df[(df[i] > up) | (df[i] < low)].any(axis=None):\n",
    "        print(i,\"yes\")\n",
    "    else:\n",
    "        print(i, \"no\")"
   ]
  },
  {
   "cell_type": "code",
   "execution_count": null,
   "metadata": {
    "collapsed": false,
    "jupyter": {
     "outputs_hidden": false
    }
   },
   "outputs": [],
   "source": [
    "df_out=df.copy()"
   ]
  },
  {
   "cell_type": "code",
   "execution_count": null,
   "metadata": {
    "collapsed": false,
    "jupyter": {
     "outputs_hidden": false
    }
   },
   "outputs": [],
   "source": [
    "for i in df_out.loc[:,num_list]:\n",
    "    data_mean,data_std=df_out[i].mean(),df_out[i].std()\n",
    "    cut_off=data_std*3\n",
    "    lower,upper=data_mean-cut_off,data_mean+cut_off\n",
    "\n",
    "    df_out.loc[df[i] > upper,i] = upper\n",
    "    df_out.loc[df[i] < lower,i] = lower"
   ]
  },
  {
   "cell_type": "code",
   "execution_count": null,
   "metadata": {
    "collapsed": false,
    "jupyter": {
     "outputs_hidden": false
    }
   },
   "outputs": [],
   "source": [
    "df.describe([0.1,0.25,0.35,0.5,0.65,0.75,0.9,0.95]).T"
   ]
  },
  {
   "cell_type": "code",
   "execution_count": null,
   "metadata": {
    "collapsed": false,
    "jupyter": {
     "outputs_hidden": false
    }
   },
   "outputs": [],
   "source": [
    "df_out.describe([0.1,0.25,0.35,0.5,0.65,0.75,0.9,0.95]).T"
   ]
  },
  {
   "cell_type": "markdown",
   "metadata": {
    "collapsed": false,
    "jupyter": {
     "outputs_hidden": false
    }
   },
   "source": [
    "### 4.5 The change in distribution after outliers are removed"
   ]
  },
  {
   "cell_type": "code",
   "execution_count": null,
   "metadata": {
    "collapsed": false,
    "jupyter": {
     "outputs_hidden": false
    }
   },
   "outputs": [],
   "source": [
    "k=1\n",
    "\n",
    "for i in df_out.loc[:,num_list]:\n",
    "    plt.subplot(2,3,k)\n",
    "    sns.distplot(df_out[i])\n",
    "    plt.title(i)\n",
    "    k+=1\n",
    "    plt.tight_layout()"
   ]
  },
  {
   "cell_type": "code",
   "execution_count": null,
   "metadata": {
    "collapsed": false,
    "jupyter": {
     "outputs_hidden": false
    }
   },
   "outputs": [],
   "source": [
    "k=1\n",
    "\n",
    "for i in df.loc[:,num_list]:\n",
    "    plt.subplot(2,3,k)\n",
    "    sns.distplot(df[i])\n",
    "    plt.title(i)\n",
    "    k+=1\n",
    "    plt.tight_layout()"
   ]
  },
  {
   "cell_type": "markdown",
   "metadata": {
    "collapsed": false,
    "jupyter": {
     "outputs_hidden": false
    }
   },
   "source": [
    "### 4.6 Encoding"
   ]
  },
  {
   "cell_type": "code",
   "execution_count": null,
   "metadata": {
    "collapsed": false,
    "jupyter": {
     "outputs_hidden": false
    }
   },
   "outputs": [],
   "source": [
    "for i in df.select_dtypes(\"object\"):\n",
    "    print(df[i].value_counts())"
   ]
  },
  {
   "cell_type": "code",
   "execution_count": null,
   "metadata": {
    "collapsed": false,
    "jupyter": {
     "outputs_hidden": false
    }
   },
   "outputs": [],
   "source": [
    "df.select_dtypes(\"object\").head()"
   ]
  },
  {
   "cell_type": "code",
   "execution_count": null,
   "metadata": {
    "collapsed": false,
    "jupyter": {
     "outputs_hidden": false
    }
   },
   "outputs": [],
   "source": [
    "for i in cat_list:\n",
    "    df[i] = df[i].factorize()[0]"
   ]
  },
  {
   "cell_type": "code",
   "execution_count": null,
   "metadata": {
    "collapsed": false,
    "jupyter": {
     "outputs_hidden": false
    }
   },
   "outputs": [],
   "source": [
    "df.head()"
   ]
  },
  {
   "cell_type": "code",
   "execution_count": null,
   "metadata": {
    "collapsed": false,
    "jupyter": {
     "outputs_hidden": false
    }
   },
   "outputs": [],
   "source": [
    "for i in cat_list:\n",
    "    df_out[i] = df_out[i].factorize()[0]"
   ]
  },
  {
   "cell_type": "code",
   "execution_count": null,
   "metadata": {
    "collapsed": false,
    "jupyter": {
     "outputs_hidden": false
    }
   },
   "outputs": [],
   "source": [
    "df_out.head()"
   ]
  },
  {
   "cell_type": "markdown",
   "metadata": {
    "collapsed": false,
    "jupyter": {
     "outputs_hidden": false
    }
   },
   "source": [
    "### 4.7 Correlation Analysis"
   ]
  },
  {
   "cell_type": "code",
   "execution_count": 25,
   "metadata": {
    "collapsed": false,
    "jupyter": {
     "outputs_hidden": false
    }
   },
   "outputs": [
    {
     "data": {
      "image/png": "[encoded data removed]",
      "text/plain": [
       "<Figure size 864x864 with 2 Axes>"
      ]
     },
     "metadata": {},
     "output_type": "display_data"
    }
   ],
   "source": [
    "plt.figure(figsize=(12,12))\n",
    "sns.heatmap(no_loc.corr(),linewidths=0.6,cmap=\"coolwarm\",fmt=\".2f\",annot=False);"
   ]
  },
  {
   "cell_type": "markdown",
   "metadata": {
    "collapsed": false,
    "jupyter": {
     "outputs_hidden": false
    }
   },
   "source": [
    "### 4.8 Extract features with high correlation relationships"
   ]
  },
  {
   "cell_type": "code",
   "execution_count": null,
   "metadata": {
    "collapsed": false,
    "jupyter": {
     "outputs_hidden": false
    }
   },
   "outputs": [],
   "source": [
    "# 根据具体数据集更改\n",
    "cor=df.corr()[\"status\"].sort_values(ascending=False)\n",
    "pd.DataFrame({\"column\":cor.index,\"Correlation with status\":cor.values})"
   ]
  },
  {
   "cell_type": "code",
   "execution_count": null,
   "metadata": {
    "collapsed": false,
    "jupyter": {
     "outputs_hidden": false
    }
   },
   "outputs": [],
   "source": []
  }
 ],
 "metadata": {
  "kernelspec": {
   "display_name": "Python 3 (Spyder)",
   "language": "python3",
   "name": "python3"
  },
  "language_info": {
   "codemirror_mode": {
    "name": "ipython",
    "version": 3
   },
   "file_extension": ".py",
   "mimetype": "text/x-python",
   "name": "python",
   "nbconvert_exporter": "python",
   "pygments_lexer": "ipython3",
   "version": "3.8.17"
  }
 },
 "nbformat": 4,
 "nbformat_minor": 4
}
